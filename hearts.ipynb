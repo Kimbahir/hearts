{
 "cells": [
  {
   "cell_type": "code",
   "execution_count": 29,
   "metadata": {},
   "outputs": [],
   "source": [
    "import openpyxl\n",
    "from openpyxl.worksheet.dimensions import ColumnDimension, DimensionHolder\n",
    "from openpyxl.styles import Color, colors, PatternFill, Font, Border\n",
    "from openpyxl.utils import get_column_letter\n",
    "from math import ceil, pow, sqrt"
   ]
  },
  {
   "cell_type": "code",
   "execution_count": 48,
   "metadata": {},
   "outputs": [],
   "source": [
    "# Radius of the circle in centimetres\n",
    "radius = 50\n",
    "# Total height of the heart\n",
    "height = 3\n",
    "# Interval per flower in centimetres\n",
    "interval = 10"
   ]
  },
  {
   "cell_type": "code",
   "execution_count": 49,
   "metadata": {},
   "outputs": [],
   "source": [
    "def check_if_inside_circle(x, y, h, k, r):\n",
    "    if y > k:\n",
    "        return False\n",
    "    \n",
    "    if sqrt(pow(x - h, 2) + pow(y - k, 2)) < radius:\n",
    "        return True\n",
    "    else:\n",
    "        return False\n",
    "\n",
    "def slope_intercept(x1, y1, x2, y2):\n",
    "    a = (y2-y1)/(x2-x1)\n",
    "    b = y1 - a * x1\n",
    "\n",
    "    return a,b\n",
    "\n",
    "def check_if_inside_triangle(x, y, h, r):\n",
    "    #line 1:\n",
    "    l1 = slope_intercept(0, r, 2*r, h*r)\n",
    "    l2 = slope_intercept(2*r, h*r, 4*r, r)\n",
    "\n",
    "    if y < r:\n",
    "        return False\n",
    "    \n",
    "    if y < l1[0] * x + l1[1] and y < l2[0] * x + l2[1]:\n",
    "        return True\n",
    "    else:\n",
    "        return False"
   ]
  },
  {
   "cell_type": "code",
   "execution_count": 50,
   "metadata": {},
   "outputs": [],
   "source": [
    "wb = openpyxl.Workbook()\n",
    "ws = wb.active\n",
    "\n",
    "columns = ceil(4 * radius / interval)\n",
    "rows = ceil(height * radius / interval)\n",
    "\n",
    "dim_holder = DimensionHolder(worksheet = ws)\n",
    "\n",
    "for col in range(1, columns + 1):\n",
    "    #ws.column_dimensions[get_column_letter(col)].width = 5\n",
    "    dim_holder[get_column_letter(col)] = ColumnDimension(ws, min=col, max=col, width=2.5)\n",
    "\n",
    "ws.column_dimensions = dim_holder\n",
    "\n",
    "redFill = PatternFill(start_color='FF0000', end_color='FF0000', fill_type='solid')\n",
    "greenFill = PatternFill(start_color='00FF00', end_color='00FF00', fill_type='solid')\n",
    "\n",
    "flower_counter = 0\n",
    "\n",
    "for col in range(1, columns+1):\n",
    "    for row in range(1, rows+1):\n",
    "        px = col * interval\n",
    "        py = row * interval\n",
    "\n",
    "        c1 = check_if_inside_circle(px, py, radius, radius, radius) \n",
    "        c2 = check_if_inside_circle(px, py, 3*radius, radius, radius) \n",
    "        t = check_if_inside_triangle(px, py, height, radius)\n",
    "\n",
    "        if c1 or c2 or t:\n",
    "            ws.cell(row, col).fill = redFill\n",
    "\n",
    "            flower_counter += 1\n",
    "        else:\n",
    "            ws.cell(row, col).fill = greenFill\n",
    "\n",
    "ws.cell(1, 1).value = flower_counter\n",
    "\n",
    "wb.save(\"heart.xlsx\")\n"
   ]
  },
  {
   "cell_type": "code",
   "execution_count": null,
   "metadata": {},
   "outputs": [],
   "source": []
  }
 ],
 "metadata": {
  "interpreter": {
   "hash": "f1a30683bb6ca823089648fb06d373256d27f52587d6d3c3702a572a331ba4e0"
  },
  "kernelspec": {
   "display_name": "Python 3.9.6 ('venv': venv)",
   "language": "python",
   "name": "python3"
  },
  "language_info": {
   "codemirror_mode": {
    "name": "ipython",
    "version": 3
   },
   "file_extension": ".py",
   "mimetype": "text/x-python",
   "name": "python",
   "nbconvert_exporter": "python",
   "pygments_lexer": "ipython3",
   "version": "3.9.6"
  },
  "orig_nbformat": 4
 },
 "nbformat": 4,
 "nbformat_minor": 2
}
